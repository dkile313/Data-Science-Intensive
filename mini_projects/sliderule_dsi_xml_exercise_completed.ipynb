{
 "cells": [
  {
   "cell_type": "markdown",
   "metadata": {},
   "source": [
    "# XML example and exercise\n",
    "****\n",
    "+ study examples of accessing nodes in XML tree structure  \n",
    "+ work on exercise to be completed and submitted\n",
    "****\n",
    "+ reference: https://docs.python.org/2.7/library/xml.etree.elementtree.html\n",
    "+ data source: http://www.dbis.informatik.uni-goettingen.de/Mondial\n",
    "****"
   ]
  },
  {
   "cell_type": "markdown",
   "metadata": {},
   "source": [
    "****\n",
    "## XML exercise\n",
    "\n",
    "Using data in 'data/mondial_database.xml', the examples above, and refering to https://docs.python.org/2.7/library/xml.etree.elementtree.html, find\n",
    "\n",
    "1. 10 countries with the lowest infant mortality rates\n",
    "2. 10 cities with the largest population\n",
    "3. 10 ethnic groups with the largest overall populations (sum of best/latest estimates over all countries)\n",
    "4. name and country of a) longest river, b) largest lake and c) airport at highest elevation"
   ]
  },
  {
   "cell_type": "code",
   "execution_count": 1,
   "metadata": {
    "collapsed": true
   },
   "outputs": [],
   "source": [
    "from xml.etree import ElementTree as ET\n",
    "import numpy as np\n",
    "import pandas as pd"
   ]
  },
  {
   "cell_type": "code",
   "execution_count": 2,
   "metadata": {
    "collapsed": true
   },
   "outputs": [],
   "source": [
    "document = ET.parse( 'mondial_database.xml' )"
   ]
  },
  {
   "cell_type": "markdown",
   "metadata": {},
   "source": [
    "# 1. 10 countries with the lowest infant mortality rates"
   ]
  },
  {
   "cell_type": "code",
   "execution_count": 3,
   "metadata": {
    "collapsed": false,
    "scrolled": true
   },
   "outputs": [
    {
     "data": {
      "text/html": [
       "<div>\n",
       "<table border=\"1\" class=\"dataframe\">\n",
       "  <thead>\n",
       "    <tr style=\"text-align: right;\">\n",
       "      <th></th>\n",
       "      <th>Country</th>\n",
       "      <th>Infant_Mortality</th>\n",
       "    </tr>\n",
       "  </thead>\n",
       "  <tbody>\n",
       "    <tr>\n",
       "      <th>36</th>\n",
       "      <td>Monaco</td>\n",
       "      <td>1.81</td>\n",
       "    </tr>\n",
       "    <tr>\n",
       "      <th>90</th>\n",
       "      <td>Japan</td>\n",
       "      <td>2.13</td>\n",
       "    </tr>\n",
       "    <tr>\n",
       "      <th>109</th>\n",
       "      <td>Bermuda</td>\n",
       "      <td>2.48</td>\n",
       "    </tr>\n",
       "    <tr>\n",
       "      <th>34</th>\n",
       "      <td>Norway</td>\n",
       "      <td>2.48</td>\n",
       "    </tr>\n",
       "    <tr>\n",
       "      <th>98</th>\n",
       "      <td>Singapore</td>\n",
       "      <td>2.53</td>\n",
       "    </tr>\n",
       "    <tr>\n",
       "      <th>35</th>\n",
       "      <td>Sweden</td>\n",
       "      <td>2.60</td>\n",
       "    </tr>\n",
       "    <tr>\n",
       "      <th>8</th>\n",
       "      <td>Czech Republic</td>\n",
       "      <td>2.63</td>\n",
       "    </tr>\n",
       "    <tr>\n",
       "      <th>72</th>\n",
       "      <td>Hong Kong</td>\n",
       "      <td>2.73</td>\n",
       "    </tr>\n",
       "    <tr>\n",
       "      <th>73</th>\n",
       "      <td>Macao</td>\n",
       "      <td>3.13</td>\n",
       "    </tr>\n",
       "    <tr>\n",
       "      <th>39</th>\n",
       "      <td>Iceland</td>\n",
       "      <td>3.15</td>\n",
       "    </tr>\n",
       "  </tbody>\n",
       "</table>\n",
       "</div>"
      ],
      "text/plain": [
       "            Country  Infant_Mortality\n",
       "36           Monaco              1.81\n",
       "90            Japan              2.13\n",
       "109         Bermuda              2.48\n",
       "34           Norway              2.48\n",
       "98        Singapore              2.53\n",
       "35           Sweden              2.60\n",
       "8    Czech Republic              2.63\n",
       "72        Hong Kong              2.73\n",
       "73            Macao              3.13\n",
       "39          Iceland              3.15"
      ]
     },
     "execution_count": 3,
     "metadata": {},
     "output_type": "execute_result"
    }
   ],
   "source": [
    "#Creates two empty lists where we will append data from the xml\n",
    "country_names=[]\n",
    "infant_mortality=[]\n",
    "#For loop appends each country name and infant mortality to the respective list, \n",
    "#skipping over entries where no infant mortality is given\n",
    "for country in document.iterfind('country'):\n",
    "    if country.find('infant_mortality') is None:\n",
    "        pass\n",
    "    else:\n",
    "        country_names.append (country.find('name').text)\n",
    "        infant_mortality.append (country.find('infant_mortality').text)\n",
    "#Creates a dataframe from the two lists\n",
    "IM_dataframe=pd.DataFrame(\n",
    "    {'Country': country_names,\n",
    "     'Infant_Mortality': infant_mortality})\n",
    "#Changes data from the Infant_Mortality column to float so it can be sorted correctly\n",
    "IM_dataframe[['Infant_Mortality']] = IM_dataframe[['Infant_Mortality']].apply(pd.to_numeric)\n",
    "#Returns the 10 rows with the lowest value in Infant_Mortality\n",
    "IM_dataframe.sort_values(by='Infant_Mortality').head(10)\n"
   ]
  },
  {
   "cell_type": "markdown",
   "metadata": {},
   "source": [
    "# 2. 10 cities with the largest population"
   ]
  },
  {
   "cell_type": "code",
   "execution_count": 4,
   "metadata": {
    "collapsed": false,
    "scrolled": true
   },
   "outputs": [
    {
     "data": {
      "text/html": [
       "<div>\n",
       "<table border=\"1\" class=\"dataframe\">\n",
       "  <thead>\n",
       "    <tr style=\"text-align: right;\">\n",
       "      <th></th>\n",
       "      <th>City</th>\n",
       "      <th>Population</th>\n",
       "    </tr>\n",
       "  </thead>\n",
       "  <tbody>\n",
       "    <tr>\n",
       "      <th>1251</th>\n",
       "      <td>Shanghai</td>\n",
       "      <td>22315474</td>\n",
       "    </tr>\n",
       "    <tr>\n",
       "      <th>707</th>\n",
       "      <td>Istanbul</td>\n",
       "      <td>13710512</td>\n",
       "    </tr>\n",
       "    <tr>\n",
       "      <th>1421</th>\n",
       "      <td>Mumbai</td>\n",
       "      <td>12442373</td>\n",
       "    </tr>\n",
       "    <tr>\n",
       "      <th>443</th>\n",
       "      <td>Moskva</td>\n",
       "      <td>11979529</td>\n",
       "    </tr>\n",
       "    <tr>\n",
       "      <th>1250</th>\n",
       "      <td>Beijing</td>\n",
       "      <td>11716620</td>\n",
       "    </tr>\n",
       "    <tr>\n",
       "      <th>2594</th>\n",
       "      <td>São Paulo</td>\n",
       "      <td>11152344</td>\n",
       "    </tr>\n",
       "    <tr>\n",
       "      <th>1252</th>\n",
       "      <td>Tianjin</td>\n",
       "      <td>11090314</td>\n",
       "    </tr>\n",
       "    <tr>\n",
       "      <th>974</th>\n",
       "      <td>Guangzhou</td>\n",
       "      <td>11071424</td>\n",
       "    </tr>\n",
       "    <tr>\n",
       "      <th>1467</th>\n",
       "      <td>Delhi</td>\n",
       "      <td>11034555</td>\n",
       "    </tr>\n",
       "    <tr>\n",
       "      <th>977</th>\n",
       "      <td>Shenzhen</td>\n",
       "      <td>10358381</td>\n",
       "    </tr>\n",
       "  </tbody>\n",
       "</table>\n",
       "</div>"
      ],
      "text/plain": [
       "           City  Population\n",
       "1251   Shanghai    22315474\n",
       "707    Istanbul    13710512\n",
       "1421     Mumbai    12442373\n",
       "443      Moskva    11979529\n",
       "1250    Beijing    11716620\n",
       "2594  São Paulo    11152344\n",
       "1252    Tianjin    11090314\n",
       "974   Guangzhou    11071424\n",
       "1467      Delhi    11034555\n",
       "977    Shenzhen    10358381"
      ]
     },
     "execution_count": 4,
     "metadata": {},
     "output_type": "execute_result"
    }
   ],
   "source": [
    "#Same process as previous exercise, but with an additional embedded loop to iterate over \n",
    "#all cities within each country, and only append the most recent population count\n",
    "city_name=[]\n",
    "pop=[]\n",
    "for country in document.iterfind('country'):\n",
    "    for city in country.getiterator('city'):\n",
    "        if city.find('population') is None:\n",
    "            pass\n",
    "        else:\n",
    "            city_name.append(city.find('name').text)\n",
    "            pop.append(city.find('population[last()]').text)\n",
    "            \n",
    "#As with the previous exercise, creates dataframe, and adjusts as needed to create the correct output\n",
    "pop_dataframe = pd.DataFrame(\n",
    "    {'City': city_name,\n",
    "     'Population': pop})\n",
    "pop_dataframe[['Population']] = pop_dataframe[['Population']].apply(pd.to_numeric)\n",
    "pop_dataframe.sort_values(by='Population',ascending=False).head(10)"
   ]
  },
  {
   "cell_type": "markdown",
   "metadata": {},
   "source": [
    "# 3. 10 ethnic groups with the largest overall populations (sum of best/latest estimates over all countries)"
   ]
  },
  {
   "cell_type": "code",
   "execution_count": 5,
   "metadata": {
    "collapsed": false,
    "scrolled": true
   },
   "outputs": [
    {
     "data": {
      "text/html": [
       "<div>\n",
       "<table border=\"1\" class=\"dataframe\">\n",
       "  <thead>\n",
       "    <tr style=\"text-align: right;\">\n",
       "      <th></th>\n",
       "      <th>Population</th>\n",
       "    </tr>\n",
       "    <tr>\n",
       "      <th>Ethnic_Group</th>\n",
       "      <th></th>\n",
       "    </tr>\n",
       "  </thead>\n",
       "  <tbody>\n",
       "    <tr>\n",
       "      <th>Han Chinese</th>\n",
       "      <td>1245058800</td>\n",
       "    </tr>\n",
       "    <tr>\n",
       "      <th>Indo-Aryan</th>\n",
       "      <td>871815583</td>\n",
       "    </tr>\n",
       "    <tr>\n",
       "      <th>European</th>\n",
       "      <td>494872201</td>\n",
       "    </tr>\n",
       "    <tr>\n",
       "      <th>African</th>\n",
       "      <td>318325104</td>\n",
       "    </tr>\n",
       "    <tr>\n",
       "      <th>Dravidian</th>\n",
       "      <td>302713744</td>\n",
       "    </tr>\n",
       "    <tr>\n",
       "      <th>Mestizo</th>\n",
       "      <td>157734349</td>\n",
       "    </tr>\n",
       "    <tr>\n",
       "      <th>Bengali</th>\n",
       "      <td>146776916</td>\n",
       "    </tr>\n",
       "    <tr>\n",
       "      <th>Russian</th>\n",
       "      <td>131856989</td>\n",
       "    </tr>\n",
       "    <tr>\n",
       "      <th>Japanese</th>\n",
       "      <td>126534212</td>\n",
       "    </tr>\n",
       "    <tr>\n",
       "      <th>Malay</th>\n",
       "      <td>121993548</td>\n",
       "    </tr>\n",
       "  </tbody>\n",
       "</table>\n",
       "</div>"
      ],
      "text/plain": [
       "              Population\n",
       "Ethnic_Group            \n",
       "Han Chinese   1245058800\n",
       "Indo-Aryan     871815583\n",
       "European       494872201\n",
       "African        318325104\n",
       "Dravidian      302713744\n",
       "Mestizo        157734349\n",
       "Bengali        146776916\n",
       "Russian        131856989\n",
       "Japanese       126534212\n",
       "Malay          121993548"
      ]
     },
     "execution_count": 5,
     "metadata": {},
     "output_type": "execute_result"
    }
   ],
   "source": [
    "#Set up empty lists for the relevant data\n",
    "country_name=[]\n",
    "pop=[]\n",
    "ethnicity=[]\n",
    "#As with previous execise, loops through countries and loops through ethnic groups within each country\n",
    "for country in document.iterfind('country'):\n",
    "    #Set up \"iteration\" and \"group\" variables to count the number of loops (i.e., ethnic groups) within each country\n",
    "    iteration=1\n",
    "    group=str('ethnicgroup'+'['+str(iteration)+']')\n",
    "    if country.find('population') is None or country.find('ethnicgroup') is None:\n",
    "        pass\n",
    "    else:\n",
    "        for ethnicgroup in country.getiterator('ethnicgroup'):\n",
    "                country_name.append(country.find('name').text)\n",
    "                ethnicity.append(country.find(group).text)\n",
    "    #Calculates the population of the ethnic group within the country by multiplying the percentage \n",
    "    #of the ethnic group by the total country population\n",
    "                percent = float(ethnicgroup.get('percentage'))/100\n",
    "                pop.append(int(int(country.find('population[last()]').text)*percent))\n",
    "    #Update iteration so that the next ethnic group can be located (i.e., ethnicgroup[1], ethnicgroup[2],etc)\n",
    "                iteration=iteration+1\n",
    "                group=str('ethnicgroup'+'['+str(iteration)+']')\n",
    "#Create dataframe from the lists built in the loop\n",
    "#Group by Ethnic_Group and sum to get the total population of each ethnic group across all countries\n",
    "ethnicpop = pd.DataFrame(\n",
    "    {'Country': country_name,\n",
    "     'Ethnic_Group': ethnicity,\n",
    "     'Population': pop})\n",
    "ethnicpop.groupby(['Ethnic_Group']).sum().sort_values(by='Population',ascending=False).head(10)"
   ]
  },
  {
   "cell_type": "markdown",
   "metadata": {},
   "source": [
    "# 4. name and country of a) longest river, b) largest lake and c) airport at highest elevation"
   ]
  },
  {
   "cell_type": "code",
   "execution_count": 6,
   "metadata": {
    "collapsed": false
   },
   "outputs": [
    {
     "data": {
      "text/html": [
       "<div>\n",
       "<table border=\"1\" class=\"dataframe\">\n",
       "  <thead>\n",
       "    <tr style=\"text-align: right;\">\n",
       "      <th></th>\n",
       "      <th>Country</th>\n",
       "      <th>Length</th>\n",
       "      <th>River_Name</th>\n",
       "    </tr>\n",
       "  </thead>\n",
       "  <tbody>\n",
       "    <tr>\n",
       "      <th>174</th>\n",
       "      <td>CO BR PE</td>\n",
       "      <td>6448.0</td>\n",
       "      <td>Amazonas</td>\n",
       "    </tr>\n",
       "  </tbody>\n",
       "</table>\n",
       "</div>"
      ],
      "text/plain": [
       "      Country  Length River_Name\n",
       "174  CO BR PE  6448.0   Amazonas"
      ]
     },
     "execution_count": 6,
     "metadata": {},
     "output_type": "execute_result"
    }
   ],
   "source": [
    "#Longest river\n",
    "river_name=[]\n",
    "river_length=[]\n",
    "country=[]\n",
    "for river in document.iterfind('river'):\n",
    "    if river.find('name') is None or river.find('length') is None:\n",
    "        pass\n",
    "    else:\n",
    "        river_name.append(river.find('name').text)\n",
    "        river_length.append(river.find('length').text)\n",
    "        country.append(river.get('country'))\n",
    "rivers = pd.DataFrame(\n",
    "    {'River_Name': river_name,\n",
    "     'Length': river_length,\n",
    "     'Country': country})\n",
    "rivers[['Length']] = rivers[['Length']].apply(pd.to_numeric)\n",
    "rivers.sort_values(by='Length',ascending=False).head(1)"
   ]
  },
  {
   "cell_type": "code",
   "execution_count": 7,
   "metadata": {
    "collapsed": false
   },
   "outputs": [
    {
     "data": {
      "text/html": [
       "<div>\n",
       "<table border=\"1\" class=\"dataframe\">\n",
       "  <thead>\n",
       "    <tr style=\"text-align: right;\">\n",
       "      <th></th>\n",
       "      <th>Country</th>\n",
       "      <th>Lake_Name</th>\n",
       "      <th>Size</th>\n",
       "    </tr>\n",
       "  </thead>\n",
       "  <tbody>\n",
       "    <tr>\n",
       "      <th>54</th>\n",
       "      <td>R AZ KAZ IR TM</td>\n",
       "      <td>Caspian Sea</td>\n",
       "      <td>386400.0</td>\n",
       "    </tr>\n",
       "  </tbody>\n",
       "</table>\n",
       "</div>"
      ],
      "text/plain": [
       "           Country    Lake_Name      Size\n",
       "54  R AZ KAZ IR TM  Caspian Sea  386400.0"
      ]
     },
     "execution_count": 7,
     "metadata": {},
     "output_type": "execute_result"
    }
   ],
   "source": [
    "#Largest lake\n",
    "lake_name=[]\n",
    "lake_area=[]\n",
    "country=[]\n",
    "for lake in document.iterfind('lake'):\n",
    "    if lake.find('name') is None or lake.find('area') is None:\n",
    "        pass\n",
    "    else:\n",
    "        lake_name.append(lake.find('name').text)\n",
    "        lake_area.append(lake.find('area').text)\n",
    "        country.append(lake.get('country'))\n",
    "lakes = pd.DataFrame(\n",
    "    {'Lake_Name': lake_name,\n",
    "     'Size': lake_area,\n",
    "     'Country': country})\n",
    "lakes[['Size']] = lakes[['Size']].apply(pd.to_numeric)\n",
    "lakes.sort_values(by='Size',ascending=False).head(1)"
   ]
  },
  {
   "cell_type": "code",
   "execution_count": 8,
   "metadata": {
    "collapsed": false
   },
   "outputs": [
    {
     "data": {
      "text/html": [
       "<div>\n",
       "<table border=\"1\" class=\"dataframe\">\n",
       "  <thead>\n",
       "    <tr style=\"text-align: right;\">\n",
       "      <th></th>\n",
       "      <th>Airport_Name</th>\n",
       "      <th>Country</th>\n",
       "      <th>Elevation</th>\n",
       "    </tr>\n",
       "  </thead>\n",
       "  <tbody>\n",
       "    <tr>\n",
       "      <th>80</th>\n",
       "      <td>El Alto Intl</td>\n",
       "      <td>BOL</td>\n",
       "      <td>4063.0</td>\n",
       "    </tr>\n",
       "  </tbody>\n",
       "</table>\n",
       "</div>"
      ],
      "text/plain": [
       "    Airport_Name Country  Elevation\n",
       "80  El Alto Intl     BOL     4063.0"
      ]
     },
     "execution_count": 8,
     "metadata": {},
     "output_type": "execute_result"
    }
   ],
   "source": [
    "#Highest elevation airport\n",
    "airport_name=[]\n",
    "airport_elevation=[]\n",
    "country=[]\n",
    "for airport in document.iterfind('airport'):\n",
    "    if airport.find('name') is None or airport.find('elevation') is None:\n",
    "        pass\n",
    "    else:\n",
    "        airport_name.append(airport.find('name').text)\n",
    "        airport_elevation.append(airport.find('elevation').text)\n",
    "        country.append(airport.get('country'))\n",
    "airports = pd.DataFrame(\n",
    "    {'Airport_Name': airport_name,\n",
    "     'Elevation': airport_elevation,\n",
    "     'Country': country})\n",
    "airports[['Elevation']] = airports[['Elevation']].apply(pd.to_numeric)\n",
    "airports.sort_values(by='Elevation',ascending=False).head(1)\n"
   ]
  }
 ],
 "metadata": {
  "anaconda-cloud": {},
  "kernelspec": {
   "display_name": "Python [default]",
   "language": "python",
   "name": "python3"
  },
  "language_info": {
   "codemirror_mode": {
    "name": "ipython",
    "version": 3
   },
   "file_extension": ".py",
   "mimetype": "text/x-python",
   "name": "python",
   "nbconvert_exporter": "python",
   "pygments_lexer": "ipython3",
   "version": "3.5.2"
  }
 },
 "nbformat": 4,
 "nbformat_minor": 0
}
