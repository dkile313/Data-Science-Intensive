{
 "cells": [
  {
   "cell_type": "markdown",
   "metadata": {},
   "source": [
    "# What is the True Normal Human Body Temperature? \n",
    "\n",
    "#### Background\n",
    "\n",
    "The mean normal body temperature was held to be 37$^{\\circ}$C or 98.6$^{\\circ}$F for more than 120 years since it was first conceptualized and reported by Carl Wunderlich in a famous 1868 book. But, is this value statistically correct?"
   ]
  },
  {
   "cell_type": "markdown",
   "metadata": {},
   "source": [
    "<div class=\"span5 alert alert-info\">\n",
    "<h3>Exercises</h3>\n",
    "\n",
    "<p>In this exercise, you will analyze a dataset of human body temperatures and employ the concepts of hypothesis testing, confidence intervals, and statistical significance.</p>\n",
    "\n",
    "<p>Answer the following questions <b>in this notebook below and submit to your Github account</b>.</p> \n",
    "\n",
    "<ol>\n",
    "<li>  Is the distribution of body temperatures normal? \n",
    "    <ul>\n",
    "    <li> Although this is not a requirement for CLT to hold (read CLT carefully), it gives us some peace of mind that the population may also be normally distributed if we assume that this sample is representative of the population.\n",
    "    </ul>\n",
    "<li>  Is the sample size large? Are the observations independent?\n",
    "    <ul>\n",
    "    <li> Remember that this is a condition for the CLT, and hence the statistical tests we are using, to apply.\n",
    "    </ul>\n",
    "<li>  Is the true population mean really 98.6 degrees F?\n",
    "    <ul>\n",
    "    <li> Would you use a one-sample or two-sample test? Why?\n",
    "    <li> In this situation, is it appropriate to use the $t$ or $z$ statistic? \n",
    "    <li> Now try using the other test. How is the result be different? Why?\n",
    "    </ul>\n",
    "<li>  At what temperature should we consider someone's temperature to be \"abnormal\"?\n",
    "    <ul>\n",
    "    <li> Start by computing the margin of error and confidence interval.\n",
    "    </ul>\n",
    "<li>  Is there a significant difference between males and females in normal temperature?\n",
    "    <ul>\n",
    "    <li> What test did you use and why?\n",
    "    <li> Write a story with your conclusion in the context of the original problem.\n",
    "    </ul>\n",
    "</ol>\n",
    "\n",
    "You can include written notes in notebook cells using Markdown: \n",
    "   - In the control panel at the top, choose Cell > Cell Type > Markdown\n",
    "   - Markdown syntax: http://nestacms.com/docs/creating-content/markdown-cheat-sheet\n",
    "\n",
    "#### Resources\n",
    "\n",
    "+ Information and data sources: http://www.amstat.org/publications/jse/datasets/normtemp.txt, http://www.amstat.org/publications/jse/jse_data_archive.htm\n",
    "+ Markdown syntax: http://nestacms.com/docs/creating-content/markdown-cheat-sheet\n",
    "\n",
    "****"
   ]
  },
  {
   "cell_type": "code",
   "execution_count": 3,
   "metadata": {
    "collapsed": false,
    "scrolled": false
   },
   "outputs": [
    {
     "data": {
      "text/html": [
       "<div>\n",
       "<table border=\"1\" class=\"dataframe\">\n",
       "  <thead>\n",
       "    <tr style=\"text-align: right;\">\n",
       "      <th></th>\n",
       "      <th>temperature</th>\n",
       "      <th>gender</th>\n",
       "      <th>heart_rate</th>\n",
       "    </tr>\n",
       "  </thead>\n",
       "  <tbody>\n",
       "    <tr>\n",
       "      <th>0</th>\n",
       "      <td>99.3</td>\n",
       "      <td>F</td>\n",
       "      <td>68.0</td>\n",
       "    </tr>\n",
       "    <tr>\n",
       "      <th>1</th>\n",
       "      <td>98.4</td>\n",
       "      <td>F</td>\n",
       "      <td>81.0</td>\n",
       "    </tr>\n",
       "    <tr>\n",
       "      <th>2</th>\n",
       "      <td>97.8</td>\n",
       "      <td>M</td>\n",
       "      <td>73.0</td>\n",
       "    </tr>\n",
       "    <tr>\n",
       "      <th>3</th>\n",
       "      <td>99.2</td>\n",
       "      <td>F</td>\n",
       "      <td>66.0</td>\n",
       "    </tr>\n",
       "    <tr>\n",
       "      <th>4</th>\n",
       "      <td>98.0</td>\n",
       "      <td>F</td>\n",
       "      <td>73.0</td>\n",
       "    </tr>\n",
       "  </tbody>\n",
       "</table>\n",
       "</div>"
      ],
      "text/plain": [
       "   temperature gender  heart_rate\n",
       "0         99.3      F        68.0\n",
       "1         98.4      F        81.0\n",
       "2         97.8      M        73.0\n",
       "3         99.2      F        66.0\n",
       "4         98.0      F        73.0"
      ]
     },
     "execution_count": 3,
     "metadata": {},
     "output_type": "execute_result"
    }
   ],
   "source": [
    "import pandas as pd\n",
    "import numpy as np\n",
    "import scipy.stats as stats\n",
    "import matplotlib.pyplot as plt\n",
    "\n",
    "df = pd.read_csv('human_body_temperature.csv')\n",
    "df.head()"
   ]
  },
  {
   "cell_type": "markdown",
   "metadata": {},
   "source": [
    "## 1. Is the distribution of body temperatures normal?\n",
    "To determine if the given data are normally distributed, I both plot the data and use a stats test.  These provide both visual and statistical evidence that the dataset is indeed normally distributed."
   ]
  },
  {
   "cell_type": "code",
   "execution_count": 4,
   "metadata": {
    "collapsed": false
   },
   "outputs": [
    {
     "data": {
      "image/png": "[encoded data removed]",
      "text/plain": [
       "<matplotlib.figure.Figure at 0x8f0def0>"
      ]
     },
     "metadata": {},
     "output_type": "display_data"
    },
    {
     "name": "stdout",
     "output_type": "stream",
     "text": [
      "Mean = 98.24923076923076\n",
      "Standard Deviation = 0.7303577789050376\n"
     ]
    },
    {
     "data": {
      "text/plain": [
       "NormaltestResult(statistic=2.7038014333192359, pvalue=0.25874798634882118)"
      ]
     },
     "execution_count": 4,
     "metadata": {},
     "output_type": "execute_result"
    }
   ],
   "source": [
    "#sort values so they can be plotted in a line to show distribution\n",
    "df = df.sort_values(by='temperature')\n",
    "temp = df.temperature\n",
    "#establish mean and standard deviation\n",
    "std = np.std(temp) \n",
    "mean = np.mean(temp)\n",
    "#Creates and plots a normal distribution based on the temp data over the histogram\n",
    "fit = stats.norm.pdf(temp, mean, std)\n",
    "plt.plot(temp,fit)\n",
    "#Creates the histogram with a line at the mean\n",
    "plt.hist(temp,normed=True, bins=20)\n",
    "plt.axvline(temp.mean())\n",
    "plt.show()\n",
    "#Print mean and std\n",
    "print('Mean =',mean)\n",
    "print('Standard Deviation =',std)\n",
    "#Stats test of the data against a real normal distribution to support the normal distribution hypothesis (p>0.05)\n",
    "stats.mstats.normaltest(temp, axis=0)"
   ]
  },
  {
   "cell_type": "markdown",
   "metadata": {},
   "source": [
    "## 2. Is the sample size large? Are the observations independent? \n",
    "Since the data are normally distributed, a sample size of at least 30 should be sufficient for statistical testing.  Therefore our n-size of 130 is more than large enough for statistical inference.  \n",
    "\n",
    "According to the source article, the original author \"measured 148 subjects' normal temperatures taken at several different times during two consecutive days, resulting in 700 total readings\". These 700 readings were proportionally reduced to 130 by the author of this exercise.  I believe that the steps taken by the original author - taking temperatures multiple times during the day for two days - greatly reduce the threat of an effect of time of day on the sample distribution, therefore it is safe to say that observations are independent."
   ]
  },
  {
   "cell_type": "code",
   "execution_count": 5,
   "metadata": {
    "collapsed": false
   },
   "outputs": [
    {
     "name": "stdout",
     "output_type": "stream",
     "text": [
      "n = 130\n"
     ]
    }
   ],
   "source": [
    "#Prints the sample size of our dataset.\n",
    "print('n =',len(df.index))"
   ]
  },
  {
   "cell_type": "markdown",
   "metadata": {},
   "source": [
    "# 3. Is the true population mean really 98.6 degrees F? \n",
    " - **Would you use a one-sample or two-sample test? Why?**\n",
    "    Since we already know that our null hypothesis mean is 98.6 (and therefore we are comparing one sample to a   known null value, not two samples), we should use a one-sample test.  \n",
    "    \n",
    "    \n",
    " - **In this situation, is it appropriate to use the *t* or *z* statistic?**\n",
    "     Since we do not have the standard deviation for the total population, it is appropriate to use a *t* statistic.\n",
    " \n",
    " \n",
    " - **Now try using the other test. How will the result be different? Why?**\n",
    "     A z-test is not possible because we do not have the standard deviation of the total human population available."
   ]
  },
  {
   "cell_type": "code",
   "execution_count": 6,
   "metadata": {
    "collapsed": false
   },
   "outputs": [
    {
     "name": "stdout",
     "output_type": "stream",
     "text": [
      "Sample mean = 98.24923076923076\n",
      "Null mean = 98.6\n",
      "Standard error = 0.0643044168379\n",
      "t = (sample mean - null mean)/standard_error\n",
      "t = -5.45482329236\n",
      "p < 0.001\n"
     ]
    }
   ],
   "source": [
    "sample_mean = np.mean(df.temperature)\n",
    "print('Sample mean =',sample_mean)\n",
    "null_mean = 98.6\n",
    "print('Null mean =',null_mean)\n",
    "standard_error = stats.sem(df.temperature)\n",
    "print('Standard error =',standard_error)\n",
    "t = (sample_mean - null_mean)/standard_error\n",
    "print('t = (sample mean - null mean)/standard_error')\n",
    "print('t =',t)\n",
    "print('p < 0.001')"
   ]
  },
  {
   "cell_type": "markdown",
   "metadata": {},
   "source": [
    "# 4. At what temperature should we consider someone's temperature to be \"abnormal\"?\n",
    "I began by calculating t-critical at alpha 0.05 using a t-value calculator at http://stattrek.com/online-calculator/t-distribution.aspx.  I then calculated margin of error by multiplying t-critical by the standard error.  The 95% CI is the sample mean +- the margin of error: 98.249 +- 0.127, or 98.123-98.376.  Therefore, we would consider someone's temperature to be \"abnormal\" if their temperature was below 98.123 or above 98.376."
   ]
  },
  {
   "cell_type": "code",
   "execution_count": 7,
   "metadata": {
    "collapsed": false
   },
   "outputs": [
    {
     "name": "stdout",
     "output_type": "stream",
     "text": [
      "t-critical at alpha 0.05 with 129 degrees of freedom = 1.979\n",
      "Margin of error = 0.127258440922\n",
      "Confidence interval = 98.24923076923076 +- 0.127258440922\n"
     ]
    }
   ],
   "source": [
    "t_critical = 1.979\n",
    "standard_error = stats.sem(df.temperature)\n",
    "ample_mean = np.mean(df.temperature)\n",
    "print('t-critical at alpha 0.05 with 129 degrees of freedom =',t_critical)\n",
    "margin_of_error = t_critical * standard_error\n",
    "print('Margin of error =',margin_of_error)\n",
    "print('Confidence interval =',sample_mean,'+-',margin_of_error)"
   ]
  },
  {
   "cell_type": "markdown",
   "metadata": {},
   "source": [
    "# 5. Is there a significant difference between males and females in normal temperature?\n",
    " - **What test did you use and why?**\n",
    " I used a two-sample t-test because we are comparing two unknown populations.\n",
    " - **Write a story with your conclusion in the context of the original problem. **\n",
    " I found that there is no statistically significant difference between males and females in normal temperature (p > 0.05), although in this sample females had a slighly higher body temperature, by about 0.3 degrees farenheit.  However, the p value was still relatively low at 0.111, and the original data were based on a smaller number of female than male subjects, so in order to come to a more definitive conclusion on whether or not there is a difference in male and female body temperature I would recommend replicating this study with a greater number of female subjects."
   ]
  },
  {
   "cell_type": "code",
   "execution_count": 9,
   "metadata": {
    "collapsed": false
   },
   "outputs": [
    {
     "name": "stdout",
     "output_type": "stream",
     "text": [
      "Male mean temperature = 98.1046153846154\n",
      "Female mean temperature = 98.39384615384616\n",
      "Male standard error = 0.0866699855229\n",
      "Female standard error = 0.0922183060804\n",
      "t = (male mean-female mean)/(male standard error+female standard error)\n",
      "t = -1.616823363\n",
      "p = 0.111\n"
     ]
    }
   ],
   "source": [
    "males = df[df['gender'] == 'M']\n",
    "females = df[df['gender'] == 'F']\n",
    "male_mean = np.mean(males.temperature)\n",
    "female_mean = np.mean(females.temperature)\n",
    "print('Male mean temperature =',male_mean)\n",
    "print('Female mean temperature =',female_mean)\n",
    "male_se = stats.sem(males.temperature)\n",
    "female_se = stats.sem(females.temperature)\n",
    "print('Male standard error =',male_se)\n",
    "print('Female standard error =',female_se)\n",
    "t = (male_mean-female_mean)/(male_se+female_se)\n",
    "print('t = (male mean-female mean)/(male standard error+female standard error)')\n",
    "print('t =',t)\n",
    "print('p =', 0.111)"
   ]
  }
 ],
 "metadata": {
  "anaconda-cloud": {},
  "kernelspec": {
   "display_name": "Python [conda root]",
   "language": "python",
   "name": "conda-root-py"
  },
  "language_info": {
   "codemirror_mode": {
    "name": "ipython",
    "version": 3
   },
   "file_extension": ".py",
   "mimetype": "text/x-python",
   "name": "python",
   "nbconvert_exporter": "python",
   "pygments_lexer": "ipython3",
   "version": "3.5.2"
  }
 },
 "nbformat": 4,
 "nbformat_minor": 0
}
